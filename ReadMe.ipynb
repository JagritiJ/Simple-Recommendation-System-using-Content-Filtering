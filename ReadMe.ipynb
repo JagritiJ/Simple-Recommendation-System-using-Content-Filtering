{
 "cells": [
  {
   "cell_type": "code",
   "execution_count": null,
   "metadata": {},
   "outputs": [],
   "source": [
    "Content Based Filtering\n",
    "\n",
    "The 'MNC Assignment-Jagriti Jain' shows you how to implement a Content Based Recommender System in Python\n",
    "from scratch.\n",
    "\n",
    "Prepare the dataset\n",
    "\n",
    "1. json file which was converted to data.csv\n",
    "2. user_profiles converted to user_profiles.csv\n",
    "3. user_activities converted to user_activities.csv\n",
    "\n",
    "To Run\n",
    "\n",
    "Open the notebook, all the outputs are visible. If you want to run again, you can go to Kernel -> Restart and Run All\n",
    "The following command runs the model and prints the metrics\n"
   ]
  }
 ],
 "metadata": {
  "kernelspec": {
   "display_name": "Python 3",
   "language": "python",
   "name": "python3"
  },
  "language_info": {
   "codemirror_mode": {
    "name": "ipython",
    "version": 3
   },
   "file_extension": ".py",
   "mimetype": "text/x-python",
   "name": "python",
   "nbconvert_exporter": "python",
   "pygments_lexer": "ipython3",
   "version": "3.7.7"
  }
 },
 "nbformat": 4,
 "nbformat_minor": 4
}
